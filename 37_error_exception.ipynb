{
 "cells": [
  {
   "cell_type": "code",
   "execution_count": 1,
   "metadata": {},
   "outputs": [
    {
     "ename": "ZeroDivisionError",
     "evalue": "division by zero",
     "output_type": "error",
     "traceback": [
      "\u001b[1;31m---------------------------------------------------------------------------\u001b[0m",
      "\u001b[1;31mZeroDivisionError\u001b[0m                         Traceback (most recent call last)",
      "Cell \u001b[1;32mIn[1], line 2\u001b[0m\n\u001b[0;32m      1\u001b[0m a \u001b[38;5;241m=\u001b[39m \u001b[38;5;241m10\u001b[39m \n\u001b[1;32m----> 2\u001b[0m \u001b[43ma\u001b[49m\u001b[38;5;241;43m/\u001b[39;49m\u001b[38;5;241;43m0\u001b[39;49m\n",
      "\u001b[1;31mZeroDivisionError\u001b[0m: division by zero"
     ]
    }
   ],
   "source": [
    "a = 10 \n",
    "a/0"
   ]
  },
  {
   "cell_type": "code",
   "execution_count": 4,
   "metadata": {},
   "outputs": [
    {
     "ename": "ValueError",
     "evalue": "invalid literal for int() with base 10: 'sudhanshu'",
     "output_type": "error",
     "traceback": [
      "\u001b[1;31m---------------------------------------------------------------------------\u001b[0m",
      "\u001b[1;31mValueError\u001b[0m                                Traceback (most recent call last)",
      "Cell \u001b[1;32mIn[4], line 1\u001b[0m\n\u001b[1;32m----> 1\u001b[0m s \u001b[38;5;241m=\u001b[39m \u001b[38;5;28;43mint\u001b[39;49m\u001b[43m(\u001b[49m\u001b[38;5;28;43minput\u001b[39;49m\u001b[43m(\u001b[49m\u001b[38;5;124;43m\"\u001b[39;49m\u001b[38;5;124;43menter your name \u001b[39;49m\u001b[38;5;124;43m\"\u001b[39;49m\u001b[43m)\u001b[49m\u001b[43m)\u001b[49m\n",
      "\u001b[1;31mValueError\u001b[0m: invalid literal for int() with base 10: 'sudhanshu'"
     ]
    }
   ],
   "source": [
    "s = int(input(\"enter your name \"))"
   ]
  },
  {
   "cell_type": "code",
   "execution_count": 3,
   "metadata": {},
   "outputs": [
    {
     "data": {
      "text/plain": [
       "2344242"
      ]
     },
     "execution_count": 3,
     "metadata": {},
     "output_type": "execute_result"
    }
   ],
   "source": [
    "s"
   ]
  },
  {
   "cell_type": "code",
   "execution_count": 9,
   "metadata": {},
   "outputs": [
    {
     "name": "stdout",
     "output_type": "stream",
     "text": [
      "this will bbe executed after try and except\n"
     ]
    }
   ],
   "source": [
    "try :\n",
    "    a =10\n",
    "    a/0\n",
    "except:\n",
    "    pass\n",
    "print(\"this will bbe executed after try and except\")"
   ]
  },
  {
   "cell_type": "code",
   "execution_count": 10,
   "metadata": {},
   "outputs": [
    {
     "ename": "ZeroDivisionError",
     "evalue": "division by zero",
     "output_type": "error",
     "traceback": [
      "\u001b[1;31m---------------------------------------------------------------------------\u001b[0m",
      "\u001b[1;31mZeroDivisionError\u001b[0m                         Traceback (most recent call last)",
      "Cell \u001b[1;32mIn[10], line 1\u001b[0m\n\u001b[1;32m----> 1\u001b[0m \u001b[38;5;241;43m10\u001b[39;49m\u001b[38;5;241;43m/\u001b[39;49m\u001b[38;5;241;43m0\u001b[39;49m\n\u001b[0;32m      2\u001b[0m \u001b[38;5;28mprint\u001b[39m(\u001b[38;5;124m\"\u001b[39m\u001b[38;5;124mthsi is my test\u001b[39m\u001b[38;5;124m\"\u001b[39m)\n",
      "\u001b[1;31mZeroDivisionError\u001b[0m: division by zero"
     ]
    }
   ],
   "source": [
    "10/0\n",
    "print(\"thsi is my test\")"
   ]
  },
  {
   "cell_type": "code",
   "execution_count": 13,
   "metadata": {},
   "outputs": [
    {
     "name": "stdout",
     "output_type": "stream",
     "text": [
      "user has entered zero for denominator division by zero\n"
     ]
    }
   ],
   "source": [
    "try :\n",
    "    a = int(input(\"enter the number\"))\n",
    "    b = int(input(\"enter anohter number\"))\n",
    "    c = a/b\n",
    "    print(c)\n",
    "except ZeroDivisionError as e  :\n",
    "    print(\"user has entered zero for denominator\",e)"
   ]
  },
  {
   "cell_type": "code",
   "execution_count": 14,
   "metadata": {},
   "outputs": [
    {
     "ename": "ValueError",
     "evalue": "invalid literal for int() with base 10: 'sudhanshu'",
     "output_type": "error",
     "traceback": [
      "\u001b[1;31m---------------------------------------------------------------------------\u001b[0m",
      "\u001b[1;31mValueError\u001b[0m                                Traceback (most recent call last)",
      "Cell \u001b[1;32mIn[14], line 3\u001b[0m\n\u001b[0;32m      1\u001b[0m \u001b[38;5;28;01mtry\u001b[39;00m :\n\u001b[0;32m      2\u001b[0m     a \u001b[38;5;241m=\u001b[39m \u001b[38;5;28mint\u001b[39m(\u001b[38;5;28minput\u001b[39m(\u001b[38;5;124m\"\u001b[39m\u001b[38;5;124menter the number\u001b[39m\u001b[38;5;124m\"\u001b[39m))\n\u001b[1;32m----> 3\u001b[0m     b \u001b[38;5;241m=\u001b[39m \u001b[38;5;28;43mint\u001b[39;49m\u001b[43m(\u001b[49m\u001b[38;5;28;43minput\u001b[39;49m\u001b[43m(\u001b[49m\u001b[38;5;124;43m\"\u001b[39;49m\u001b[38;5;124;43menter anohter number\u001b[39;49m\u001b[38;5;124;43m\"\u001b[39;49m\u001b[43m)\u001b[49m\u001b[43m)\u001b[49m\n\u001b[0;32m      4\u001b[0m     c \u001b[38;5;241m=\u001b[39m a\u001b[38;5;241m/\u001b[39mb\n\u001b[0;32m      5\u001b[0m     \u001b[38;5;28mprint\u001b[39m(c)\n",
      "\u001b[1;31mValueError\u001b[0m: invalid literal for int() with base 10: 'sudhanshu'"
     ]
    }
   ],
   "source": [
    "try :\n",
    "    a = int(input(\"enter the number\"))\n",
    "    b = int(input(\"enter anohter number\"))\n",
    "    c = a/b\n",
    "    print(c)\n",
    "except ZeroDivisionError as e  :\n",
    "    print(\"user has entered zero for denominator\",e)"
   ]
  },
  {
   "cell_type": "code",
   "execution_count": 15,
   "metadata": {},
   "outputs": [
    {
     "name": "stdout",
     "output_type": "stream",
     "text": [
      "user has entered incorrect value  invalid literal for int() with base 10: 'sdfasfasfadsfasfsfas'\n"
     ]
    }
   ],
   "source": [
    "try :\n",
    "    a = int(input(\"enter the number\"))\n",
    "    b = int(input(\"enter anohter number\"))\n",
    "    c = a/b\n",
    "    print(c)\n",
    "except ZeroDivisionError as e  :\n",
    "    print(\"user has entered zero for denominator\",e)\n",
    "except ValueError as e :\n",
    "    print(\"user has entered incorrect value \" , e)"
   ]
  },
  {
   "cell_type": "code",
   "execution_count": 17,
   "metadata": {},
   "outputs": [
    {
     "name": "stdout",
     "output_type": "stream",
     "text": [
      "there is an error invalid literal for int() with base 10: 'sudhahdsafasdf'\n"
     ]
    }
   ],
   "source": [
    "try :\n",
    "    a = int(input(\"enter the number\"))\n",
    "    b = int(input(\"enter anohter number\"))\n",
    "    c = a/b\n",
    "    print(c)\n",
    "except (ZeroDivisionError ,ValueError) as e   :\n",
    "    print(\"there is an error\",e)"
   ]
  },
  {
   "cell_type": "code",
   "execution_count": 19,
   "metadata": {},
   "outputs": [
    {
     "name": "stdout",
     "output_type": "stream",
     "text": [
      "there is an error invalid literal for int() with base 10: 'dfjalflfaafafaf'\n"
     ]
    }
   ],
   "source": [
    "try :\n",
    "    a = int(input(\"enter the number\"))\n",
    "    b = int(input(\"enter anohter number\"))\n",
    "    c = a/b\n",
    "    print(c)\n",
    "except Exception as e   :\n",
    "    print(\"there is an error\",e)"
   ]
  },
  {
   "cell_type": "code",
   "execution_count": 20,
   "metadata": {},
   "outputs": [
    {
     "name": "stdout",
     "output_type": "stream",
     "text": [
      "there is an error division by zero\n"
     ]
    }
   ],
   "source": [
    "try :\n",
    "    a = int(input(\"enter the number\"))\n",
    "    b = int(input(\"enter anohter number\"))\n",
    "    c = a/b\n",
    "    print(c)\n",
    "except Exception as e   :\n",
    "    print(\"there is an error\",e)\n",
    "except ZeroDivisionError as e :\n",
    "    print(\"use has entered zero \",e)\n",
    "except ValueError as e :\n",
    "    print(\"user has entered some wrong value\" , e)"
   ]
  },
  {
   "cell_type": "code",
   "execution_count": 21,
   "metadata": {},
   "outputs": [
    {
     "name": "stdout",
     "output_type": "stream",
     "text": [
      "use has entered zero  division by zero\n"
     ]
    }
   ],
   "source": [
    "try :\n",
    "    a = int(input(\"enter the number\"))\n",
    "    b = int(input(\"enter anohter number\"))\n",
    "    c = a/b\n",
    "    print(c)\n",
    "\n",
    "except ZeroDivisionError as e :\n",
    "    print(\"use has entered zero \",e)\n",
    "except ValueError as e :\n",
    "    print(\"user has entered some wrong value\" , e)\n",
    "except Exception as e   :\n",
    "    print(\"there is an error\",e)\n",
    "    "
   ]
  },
  {
   "cell_type": "code",
   "execution_count": 23,
   "metadata": {},
   "outputs": [
    {
     "name": "stdout",
     "output_type": "stream",
     "text": [
      "1.4782608695652173\n",
      "this will be executed on a succefull complition of try block\n"
     ]
    }
   ],
   "source": [
    "try :\n",
    "    a = int(input(\"enter the number\"))\n",
    "    b = int(input(\"enter anohter number\"))\n",
    "    c = a/b\n",
    "    print(c)\n",
    "\n",
    "except ZeroDivisionError as e :\n",
    "    print(\"use has entered zero \",e)\n",
    "except ValueError as e :\n",
    "    print(\"user has entered some wrong value\" , e)\n",
    "except Exception as e   :\n",
    "    print(\"there is an error\",e)\n",
    "else :\n",
    "    print(\"this will be executed on a succefull complition of try block\")"
   ]
  },
  {
   "cell_type": "code",
   "execution_count": 25,
   "metadata": {},
   "outputs": [
    {
     "name": "stdout",
     "output_type": "stream",
     "text": [
      "2.8333333333333335\n",
      "this will be executed on a succefull complition of try block\n",
      "this will be executed by defalut even if we have a error\n"
     ]
    }
   ],
   "source": [
    "try :\n",
    "    a = int(input(\"enter the number\"))\n",
    "    b = int(input(\"enter anohter number\"))\n",
    "    c = a/b\n",
    "    print(c)\n",
    "\n",
    "except ZeroDivisionError as e :\n",
    "    print(\"use has entered zero \",e)\n",
    "except ValueError as e :\n",
    "    print(\"user has entered some wrong value\" , e)\n",
    "except Exception as e   :\n",
    "    print(\"there is an error\",e)\n",
    "else :\n",
    "    print(\"this will be executed on a succefull complition of try block\")\n",
    "finally :\n",
    "    print(\"this will be executed by defalut even if we have a error\")"
   ]
  },
  {
   "cell_type": "code",
   "execution_count": 26,
   "metadata": {},
   "outputs": [
    {
     "ename": "SyntaxError",
     "evalue": "invalid syntax (4068857152.py, line 15)",
     "output_type": "error",
     "traceback": [
      "\u001b[1;36m  Cell \u001b[1;32mIn[26], line 15\u001b[1;36m\u001b[0m\n\u001b[1;33m    else :\u001b[0m\n\u001b[1;37m    ^\u001b[0m\n\u001b[1;31mSyntaxError\u001b[0m\u001b[1;31m:\u001b[0m invalid syntax\n"
     ]
    }
   ],
   "source": [
    "try :\n",
    "    a = int(input(\"enter the number\"))\n",
    "    b = int(input(\"enter anohter number\"))\n",
    "    c = a/b\n",
    "    print(c)\n",
    "\n",
    "except ZeroDivisionError as e :\n",
    "    print(\"use has entered zero \",e)\n",
    "except ValueError as e :\n",
    "    print(\"user has entered some wrong value\" , e)\n",
    "except Exception as e   :\n",
    "    print(\"there is an error\",e)\n",
    "\n",
    "else :\n",
    "    print(\"this will be executed on a succefull complition of try block\")\n",
    "finally :\n",
    "    print(\"this will be executed by defalut even if we have a error\")\n"
   ]
  },
  {
   "cell_type": "code",
   "execution_count": null,
   "metadata": {},
   "outputs": [],
   "source": []
  }
 ],
 "metadata": {
  "kernelspec": {
   "display_name": "Python 3",
   "language": "python",
   "name": "python3"
  },
  "language_info": {
   "codemirror_mode": {
    "name": "ipython",
    "version": 3
   },
   "file_extension": ".py",
   "mimetype": "text/x-python",
   "name": "python",
   "nbconvert_exporter": "python",
   "pygments_lexer": "ipython3",
   "version": "3.12.1"
  }
 },
 "nbformat": 4,
 "nbformat_minor": 2
}
