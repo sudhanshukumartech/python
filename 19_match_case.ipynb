{
 "cells": [
  {
   "cell_type": "code",
   "execution_count": 2,
   "metadata": {},
   "outputs": [
    {
     "name": "stdout",
     "output_type": "stream",
     "text": [
      "non of the color is matching \n"
     ]
    }
   ],
   "source": [
    "color = input(\"enter your color\")\n",
    "match color:\n",
    "    case \"red\":\n",
    "        print(\"input color is red\")\n",
    "    case \"blue\":\n",
    "        print(\"color is blue\")\n",
    "    case \"orange\":\n",
    "        print(\"color is orange\")\n",
    "    case _:\n",
    "        print(\"non of the color is matching \")"
   ]
  },
  {
   "cell_type": "code",
   "execution_count": 3,
   "metadata": {},
   "outputs": [
    {
     "data": {
      "text/plain": [
       "'sudh'"
      ]
     },
     "execution_count": 3,
     "metadata": {},
     "output_type": "execute_result"
    }
   ],
   "source": [
    "color"
   ]
  },
  {
   "cell_type": "code",
   "execution_count": 13,
   "metadata": {},
   "outputs": [
    {
     "name": "stdout",
     "output_type": "stream",
     "text": [
      "number is positive number\n"
     ]
    }
   ],
   "source": [
    "number = int(input(\"enter a number\"))\n",
    "match number:\n",
    "    \n",
    "    case number if number < 0 :\n",
    "        print(\"the number is negative number\")\n",
    "    case number if number == 0 :\n",
    "        print(\"input number is zero\")\n",
    "    case _ :\n",
    "        print(\"number is positive number\")\n"
   ]
  },
  {
   "cell_type": "code",
   "execution_count": 11,
   "metadata": {},
   "outputs": [
    {
     "data": {
      "text/plain": [
       "True"
      ]
     },
     "execution_count": 11,
     "metadata": {},
     "output_type": "execute_result"
    }
   ],
   "source": [
    "number >0 "
   ]
  },
  {
   "cell_type": "code",
   "execution_count": 16,
   "metadata": {},
   "outputs": [
    {
     "name": "stdout",
     "output_type": "stream",
     "text": [
      "not a valid entry\n"
     ]
    }
   ],
   "source": [
    "day = int(input(\"enter your number between 1-7\"))\n",
    "match day :\n",
    "    case 1 :\n",
    "        print(\"monday\")\n",
    "    case 2 :\n",
    "        print(\"Tuesday\")\n",
    "    case 3 :\n",
    "        print(\"wednesday\")\n",
    "    case 4 :\n",
    "        print(\"thrusday\")\n",
    "    case 5 :\n",
    "        print(\"Friday\")\n",
    "    case 6 :\n",
    "        print(\"saturday\")\n",
    "    case 7 :\n",
    "        print(\"Sunday\")\n",
    "    case _ :\n",
    "        print(\"not a valid entry\")"
   ]
  },
  {
   "cell_type": "code",
   "execution_count": 15,
   "metadata": {},
   "outputs": [
    {
     "data": {
      "text/plain": [
       "5"
      ]
     },
     "execution_count": 15,
     "metadata": {},
     "output_type": "execute_result"
    }
   ],
   "source": [
    "day"
   ]
  },
  {
   "cell_type": "code",
   "execution_count": 18,
   "metadata": {},
   "outputs": [
    {
     "name": "stdout",
     "output_type": "stream",
     "text": [
      "not a valid month\n"
     ]
    }
   ],
   "source": [
    "month = input(\"enter a month \")\n",
    "match month :\n",
    "    case \"december\" | \"jan\" | \"feb\":\n",
    "        print(\"winter\")\n",
    "    case \"mar\" | \"april\" | \"may\":\n",
    "        print(\"spring\")\n",
    "    case \"june\"| \"july\"| \"aug\":\n",
    "        print(\"summer\")\n",
    "    case \"sept\" | \"oct\"|\"nov\":\n",
    "        print(\"autumn\")\n",
    "    case _:\n",
    "        print(\"not a valid month\")"
   ]
  },
  {
   "cell_type": "code",
   "execution_count": 19,
   "metadata": {},
   "outputs": [
    {
     "data": {
      "text/plain": [
       "'sudh'"
      ]
     },
     "execution_count": 19,
     "metadata": {},
     "output_type": "execute_result"
    }
   ],
   "source": [
    "month"
   ]
  },
  {
   "cell_type": "code",
   "execution_count": 23,
   "metadata": {},
   "outputs": [
    {
     "name": "stdout",
     "output_type": "stream",
     "text": [
      "you have a limited access for 7 days \n"
     ]
    }
   ],
   "source": [
    "role = input(\"enter your role\")\n",
    "match role :\n",
    "    case \"admin\":\n",
    "        print(\"you have a full access\")\n",
    "    case \"fin\":\n",
    "        print(\"you have all the access to fin data\")\n",
    "    case \"user\":\n",
    "        print(\"you have a aproduct accesss\")\n",
    "    case \"guest\":\n",
    "        print(\"you have a limited access for 7 days \")\n",
    "    case _ :\n",
    "        print(\"please enter a valid role \")"
   ]
  },
  {
   "cell_type": "code",
   "execution_count": 26,
   "metadata": {},
   "outputs": [
    {
     "name": "stdout",
     "output_type": "stream",
     "text": [
      "your grade is fail \n"
     ]
    }
   ],
   "source": [
    "score = int(input(\"enter your score\"))\n",
    "match score :\n",
    "    case score if 90<= score <=100:\n",
    "        print(\"you have A grade\")\n",
    "    case score if 80<= score <90:\n",
    "        print(\"you have grade B \")\n",
    "    case score if 70<= score < 80 :\n",
    "        print(\"your grade is C \")\n",
    "    case _ :\n",
    "        print(\"your grade is fail \")"
   ]
  },
  {
   "cell_type": "code",
   "execution_count": 30,
   "metadata": {},
   "outputs": [
    {
     "name": "stdout",
     "output_type": "stream",
     "text": [
      "not a valid code that you haev entered\n"
     ]
    }
   ],
   "source": [
    "status_code = int(input(\"enter a status code\"))\n",
    "match status_code:\n",
    "    case 200:\n",
    "        print(\"you are able to access the website\")\n",
    "    case 404:\n",
    "        print(\"system is not able to find a respective page\")\n",
    "    case 500:\n",
    "        print(\"their is some issue with the server\")\n",
    "    case _:\n",
    "        print(\"not a valid code that you haev entered\")"
   ]
  },
  {
   "cell_type": "code",
   "execution_count": 33,
   "metadata": {},
   "outputs": [
    {
     "name": "stdout",
     "output_type": "stream",
     "text": [
      "please enter a valid operation listed above\n"
     ]
    }
   ],
   "source": [
    "operation = input(\"enter one of the operation (+ , - , * ,/)\")\n",
    "num1 = float(input(\"enter num1\"))\n",
    "num2 = float(input(\"enter num2\"))\n",
    "match operation:\n",
    "    case \"+\":\n",
    "        print(num1+num2)\n",
    "    case \"-\":\n",
    "        print(num1-num2)\n",
    "    case \"*\":\n",
    "        print(num1*num2)\n",
    "    case \"/\":\n",
    "        print(num1/num2)\n",
    "    case _:\n",
    "        print(\"please enter a valid operation listed above\")"
   ]
  },
  {
   "cell_type": "code",
   "execution_count": 34,
   "metadata": {},
   "outputs": [
    {
     "data": {
      "text/plain": [
       "('%', 34.0, 34.0)"
      ]
     },
     "execution_count": 34,
     "metadata": {},
     "output_type": "execute_result"
    }
   ],
   "source": [
    "operation,num1,num2"
   ]
  },
  {
   "cell_type": "code",
   "execution_count": null,
   "metadata": {},
   "outputs": [],
   "source": [
    "test.txt\n",
    "sudh.jpg\n"
   ]
  },
  {
   "cell_type": "code",
   "execution_count": 41,
   "metadata": {},
   "outputs": [
    {
     "name": "stdout",
     "output_type": "stream",
     "text": [
      "your file type is image file \n"
     ]
    }
   ],
   "source": [
    "filename = input(\"enter your file name with extension\").split(\".\")[1]\n",
    "match filename:\n",
    "    case 'jpg' | 'png' | 'gif':\n",
    "        print(\"your file type is image file \")\n",
    "    case 'py' | 'ipynb' |'js' |'cpp':\n",
    "        print(\"your file type is coding \")\n",
    "    case 'pdf'|\"docx\"|'xlsx':\n",
    "        print(\"your file is working file\")\n",
    "    case _ :\n",
    "        print(\"not able to match\")\n"
   ]
  },
  {
   "cell_type": "code",
   "execution_count": 40,
   "metadata": {},
   "outputs": [
    {
     "data": {
      "text/plain": [
       "'ipynb'"
      ]
     },
     "execution_count": 40,
     "metadata": {},
     "output_type": "execute_result"
    }
   ],
   "source": [
    "filename"
   ]
  },
  {
   "cell_type": "code",
   "execution_count": null,
   "metadata": {},
   "outputs": [],
   "source": []
  }
 ],
 "metadata": {
  "kernelspec": {
   "display_name": "Python 3",
   "language": "python",
   "name": "python3"
  },
  "language_info": {
   "codemirror_mode": {
    "name": "ipython",
    "version": 3
   },
   "file_extension": ".py",
   "mimetype": "text/x-python",
   "name": "python",
   "nbconvert_exporter": "python",
   "pygments_lexer": "ipython3",
   "version": "3.12.1"
  }
 },
 "nbformat": 4,
 "nbformat_minor": 2
}
