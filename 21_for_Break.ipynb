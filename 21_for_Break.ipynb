{
 "cells": [
  {
   "cell_type": "code",
   "execution_count": 1,
   "metadata": {},
   "outputs": [
    {
     "name": "stdout",
     "output_type": "stream",
     "text": [
      "yes i am able to find my data 6\n"
     ]
    }
   ],
   "source": [
    "l= [1,2,3,4,6,7,8,8,9,8,7,7,6,8,98,9,5,6,7,\"sudh\",345.456,56+78j,True , False]\n",
    "for i in l :\n",
    "    if i == 6:\n",
    "        print(\"yes i am able to find my data\" , i )\n",
    "        break\n",
    "\n"
   ]
  },
  {
   "cell_type": "code",
   "execution_count": 2,
   "metadata": {},
   "outputs": [
    {
     "name": "stdout",
     "output_type": "stream",
     "text": [
      "print the fist even number from list 2\n"
     ]
    }
   ],
   "source": [
    "number = [1,2,3,4,5,6,7,8,4,5,6]\n",
    "for i in number :\n",
    "    if i % 2 == 0 :\n",
    "        print(\"print the fist even number from list\",i)\n",
    "        break\n"
   ]
  },
  {
   "cell_type": "code",
   "execution_count": 3,
   "metadata": {},
   "outputs": [
    {
     "name": "stdout",
     "output_type": "stream",
     "text": [
      "print the sum  112\n"
     ]
    }
   ],
   "source": [
    "l = [3,4,5,6,7,87,4,5,6,7,8,8,7,67,56,456]\n",
    "sum = 0 \n",
    "limit = 50\n",
    "for i in l :\n",
    "    sum = sum +i\n",
    "    if sum >limit:\n",
    "        print(\"print the sum \",sum)\n",
    "        break"
   ]
  },
  {
   "cell_type": "code",
   "execution_count": 4,
   "metadata": {},
   "outputs": [
    {
     "name": "stdout",
     "output_type": "stream",
     "text": [
      "0\n",
      "1\n",
      "2\n",
      "3\n",
      "4\n",
      "5\n",
      "6\n",
      "7\n",
      "8\n",
      "9\n",
      "10\n",
      "11\n",
      "12\n",
      "this is my max capablity  13\n"
     ]
    }
   ],
   "source": [
    "data = range(100)\n",
    "max_iter = 12\n",
    "for i in data :\n",
    "    if i> max_iter:\n",
    "        print(\"this is my max capablity \",i)\n",
    "        break\n",
    "    print(i)\n"
   ]
  },
  {
   "cell_type": "code",
   "execution_count": null,
   "metadata": {},
   "outputs": [],
   "source": []
  }
 ],
 "metadata": {
  "kernelspec": {
   "display_name": "Python 3",
   "language": "python",
   "name": "python3"
  },
  "language_info": {
   "codemirror_mode": {
    "name": "ipython",
    "version": 3
   },
   "file_extension": ".py",
   "mimetype": "text/x-python",
   "name": "python",
   "nbconvert_exporter": "python",
   "pygments_lexer": "ipython3",
   "version": "3.12.1"
  }
 },
 "nbformat": 4,
 "nbformat_minor": 2
}
