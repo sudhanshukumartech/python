{
 "cells": [
  {
   "cell_type": "code",
   "execution_count": 2,
   "metadata": {},
   "outputs": [
    {
     "name": "stdout",
     "output_type": "stream",
     "text": [
      "0\n",
      "1\n",
      "2\n",
      "3\n",
      "4\n",
      "5\n",
      "6\n",
      "7\n",
      "8\n",
      "9\n",
      "10\n"
     ]
    }
   ],
   "source": [
    "i = 0 \n",
    "n = 10 \n",
    "while i<=n:\n",
    "    print(i)\n",
    "    i = i+1\n"
   ]
  },
  {
   "cell_type": "code",
   "execution_count": 3,
   "metadata": {},
   "outputs": [
    {
     "name": "stdout",
     "output_type": "stream",
     "text": [
      "55\n"
     ]
    }
   ],
   "source": [
    "sum = 0\n",
    "i = 1\n",
    "while i<=10 :\n",
    "    sum = sum +i\n",
    "    i = i+1 \n",
    "print(sum)"
   ]
  },
  {
   "cell_type": "code",
   "execution_count": 4,
   "metadata": {},
   "outputs": [
    {
     "name": "stdout",
     "output_type": "stream",
     "text": [
      "your have gusses it!!!!\n"
     ]
    }
   ],
   "source": [
    "secret_number = 7\n",
    "guess = -1 \n",
    "while guess != secret_number:\n",
    "    guess = int(input(\"guess the number\"))\n",
    "print(\"your have gusses it!!!!\")"
   ]
  },
  {
   "cell_type": "code",
   "execution_count": 5,
   "metadata": {},
   "outputs": [
    {
     "name": "stdout",
     "output_type": "stream",
     "text": [
      "10\n",
      "9\n",
      "8\n",
      "7\n",
      "6\n",
      "5\n",
      "4\n",
      "3\n",
      "2\n",
      "1\n",
      "your time is up \n"
     ]
    }
   ],
   "source": [
    "timer = 10 \n",
    "while timer > 0 :\n",
    "    print(timer)\n",
    "    timer = timer -1 \n",
    "print(\"your time is up \")"
   ]
  },
  {
   "cell_type": "code",
   "execution_count": 6,
   "metadata": {},
   "outputs": [],
   "source": [
    "while True :\n",
    "    text = input(\"type exit to stop\")\n",
    "    if text == 'exit':\n",
    "        break\n",
    "    "
   ]
  },
  {
   "cell_type": "code",
   "execution_count": 7,
   "metadata": {},
   "outputs": [
    {
     "name": "stdout",
     "output_type": "stream",
     "text": [
      "0\n",
      "1\n",
      "2\n",
      "3\n",
      "4\n",
      "it will execute itself when while will complete\n"
     ]
    }
   ],
   "source": [
    "i = 0 \n",
    "while i < 5 :\n",
    "    print(i)\n",
    "    i = i + 1 \n",
    "else :\n",
    "    print(\"it will execute itself when while will complete\")"
   ]
  },
  {
   "cell_type": "code",
   "execution_count": 8,
   "metadata": {},
   "outputs": [],
   "source": [
    "while True :\n",
    "    text = input(\"type exit to stop\")\n",
    "    if text == 'exit':\n",
    "        break\n",
    "else :\n",
    "    print(\"this will be executeed once while will complete\")"
   ]
  },
  {
   "cell_type": "code",
   "execution_count": 9,
   "metadata": {},
   "outputs": [],
   "source": [
    "number = int(input(\"enter the number which should be greater then 10 \"))\n",
    "while number <=10:\n",
    "    number = int(input(\"enter the number which should be greater then 10 \"))"
   ]
  },
  {
   "cell_type": "code",
   "execution_count": 10,
   "metadata": {},
   "outputs": [
    {
     "name": "stdout",
     "output_type": "stream",
     "text": [
      "this is my even number :  0\n",
      "this is my even number :  2\n",
      "this is my even number :  4\n",
      "this is my even number :  6\n",
      "this is my even number :  8\n",
      "this is my even number :  10\n"
     ]
    }
   ],
   "source": [
    "i = 0 \n",
    "n = 10 \n",
    "while i <= 10 :\n",
    "    if i % 2 == 0 :\n",
    "        print(\"this is my even number : \" , i )\n",
    "    i = i +1 \n"
   ]
  },
  {
   "cell_type": "code",
   "execution_count": 11,
   "metadata": {},
   "outputs": [
    {
     "name": "stdout",
     "output_type": "stream",
     "text": [
      "3\n",
      "4\n",
      "5\n",
      "6\n",
      "6\n",
      "7\n"
     ]
    }
   ],
   "source": [
    "l = [3,4,5,6,6,7]\n",
    "index = 0 \n",
    "while index < len(l):\n",
    "    print(l[index])\n",
    "    index = index+1\n"
   ]
  },
  {
   "cell_type": "code",
   "execution_count": null,
   "metadata": {},
   "outputs": [],
   "source": []
  }
 ],
 "metadata": {
  "kernelspec": {
   "display_name": "Python 3",
   "language": "python",
   "name": "python3"
  },
  "language_info": {
   "codemirror_mode": {
    "name": "ipython",
    "version": 3
   },
   "file_extension": ".py",
   "mimetype": "text/x-python",
   "name": "python",
   "nbconvert_exporter": "python",
   "pygments_lexer": "ipython3",
   "version": "3.12.1"
  }
 },
 "nbformat": 4,
 "nbformat_minor": 2
}
