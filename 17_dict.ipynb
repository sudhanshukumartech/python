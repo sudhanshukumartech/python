{
 "cells": [
  {
   "cell_type": "code",
   "execution_count": 1,
   "metadata": {},
   "outputs": [],
   "source": [
    "d = {}"
   ]
  },
  {
   "cell_type": "code",
   "execution_count": 2,
   "metadata": {},
   "outputs": [
    {
     "data": {
      "text/plain": [
       "dict"
      ]
     },
     "execution_count": 2,
     "metadata": {},
     "output_type": "execute_result"
    }
   ],
   "source": [
    "type(d)"
   ]
  },
  {
   "cell_type": "code",
   "execution_count": 3,
   "metadata": {},
   "outputs": [],
   "source": [
    "d1 = dict()"
   ]
  },
  {
   "cell_type": "code",
   "execution_count": 4,
   "metadata": {},
   "outputs": [
    {
     "data": {
      "text/plain": [
       "dict"
      ]
     },
     "execution_count": 4,
     "metadata": {},
     "output_type": "execute_result"
    }
   ],
   "source": [
    "type(d1)"
   ]
  },
  {
   "cell_type": "code",
   "execution_count": 6,
   "metadata": {},
   "outputs": [],
   "source": [
    "d2 = {\"name\":\"sudhanshu\" , \"emai_id\" : \"sudhanshu@gmail.com\"}"
   ]
  },
  {
   "cell_type": "code",
   "execution_count": 7,
   "metadata": {},
   "outputs": [],
   "source": [
    "d3 = {12:\"sudhanshu\"}"
   ]
  },
  {
   "cell_type": "code",
   "execution_count": 8,
   "metadata": {},
   "outputs": [
    {
     "ename": "SyntaxError",
     "evalue": "incomplete input (601494559.py, line 1)",
     "output_type": "error",
     "traceback": [
      "\u001b[1;36m  Cell \u001b[1;32mIn[8], line 1\u001b[1;36m\u001b[0m\n\u001b[1;33m    d3 = {#:\"sudhanshu\"}\u001b[0m\n\u001b[1;37m                        ^\u001b[0m\n\u001b[1;31mSyntaxError\u001b[0m\u001b[1;31m:\u001b[0m incomplete input\n"
     ]
    }
   ],
   "source": [
    "d3 = {#:\"sudhanshu\"}"
   ]
  },
  {
   "cell_type": "code",
   "execution_count": 9,
   "metadata": {},
   "outputs": [],
   "source": [
    "d3 = {\"#\":\"sudhanshu\"}"
   ]
  },
  {
   "cell_type": "code",
   "execution_count": 10,
   "metadata": {},
   "outputs": [
    {
     "ename": "TypeError",
     "evalue": "unhashable type: 'list'",
     "output_type": "error",
     "traceback": [
      "\u001b[1;31m---------------------------------------------------------------------------\u001b[0m",
      "\u001b[1;31mTypeError\u001b[0m                                 Traceback (most recent call last)",
      "Cell \u001b[1;32mIn[10], line 1\u001b[0m\n\u001b[1;32m----> 1\u001b[0m d3 \u001b[38;5;241m=\u001b[39m {[\u001b[38;5;241m2\u001b[39m,\u001b[38;5;241m3\u001b[39m,\u001b[38;5;241m4\u001b[39m]:\u001b[38;5;124m\"\u001b[39m\u001b[38;5;124msudhanshu\u001b[39m\u001b[38;5;124m\"\u001b[39m}\n",
      "\u001b[1;31mTypeError\u001b[0m: unhashable type: 'list'"
     ]
    }
   ],
   "source": [
    "d3 = {[2,3,4]:\"sudhanshu\"}"
   ]
  },
  {
   "cell_type": "code",
   "execution_count": 11,
   "metadata": {},
   "outputs": [],
   "source": [
    "d3 = {(1,2,3,4):\"sudhanshu\"}"
   ]
  },
  {
   "cell_type": "code",
   "execution_count": 12,
   "metadata": {},
   "outputs": [
    {
     "ename": "TypeError",
     "evalue": "unhashable type: 'set'",
     "output_type": "error",
     "traceback": [
      "\u001b[1;31m---------------------------------------------------------------------------\u001b[0m",
      "\u001b[1;31mTypeError\u001b[0m                                 Traceback (most recent call last)",
      "Cell \u001b[1;32mIn[12], line 1\u001b[0m\n\u001b[1;32m----> 1\u001b[0m d3 \u001b[38;5;241m=\u001b[39m {{\u001b[38;5;241m1\u001b[39m,\u001b[38;5;241m2\u001b[39m,\u001b[38;5;241m3\u001b[39m,\u001b[38;5;241m4\u001b[39m}:\u001b[38;5;124m\"\u001b[39m\u001b[38;5;124msudhanshu\u001b[39m\u001b[38;5;124m\"\u001b[39m}\n",
      "\u001b[1;31mTypeError\u001b[0m: unhashable type: 'set'"
     ]
    }
   ],
   "source": [
    "d3 = {{1,2,3,4}:\"sudhanshu\"}"
   ]
  },
  {
   "cell_type": "code",
   "execution_count": 13,
   "metadata": {},
   "outputs": [],
   "source": [
    "d3 = {False:\"sudhanshu\"}"
   ]
  },
  {
   "cell_type": "code",
   "execution_count": 14,
   "metadata": {},
   "outputs": [],
   "source": [
    "d3 = {34.56:\"sudhanshu\"}"
   ]
  },
  {
   "cell_type": "code",
   "execution_count": 15,
   "metadata": {},
   "outputs": [],
   "source": [
    "d3 = {23+78j:\"sudhanshu\"}"
   ]
  },
  {
   "cell_type": "code",
   "execution_count": 16,
   "metadata": {},
   "outputs": [
    {
     "ename": "TypeError",
     "evalue": "unhashable type: 'dict'",
     "output_type": "error",
     "traceback": [
      "\u001b[1;31m---------------------------------------------------------------------------\u001b[0m",
      "\u001b[1;31mTypeError\u001b[0m                                 Traceback (most recent call last)",
      "Cell \u001b[1;32mIn[16], line 1\u001b[0m\n\u001b[1;32m----> 1\u001b[0m d3 \u001b[38;5;241m=\u001b[39m {{\u001b[38;5;124m\"\u001b[39m\u001b[38;5;124mkey\u001b[39m\u001b[38;5;124m\"\u001b[39m:\u001b[38;5;124m\"\u001b[39m\u001b[38;5;124mvalue\u001b[39m\u001b[38;5;124m\"\u001b[39m}:\u001b[38;5;124m\"\u001b[39m\u001b[38;5;124msudhanshu\u001b[39m\u001b[38;5;124m\"\u001b[39m}\n",
      "\u001b[1;31mTypeError\u001b[0m: unhashable type: 'dict'"
     ]
    }
   ],
   "source": [
    "d3 = {{\"key\":\"value\"}:\"sudhanshu\"}"
   ]
  },
  {
   "cell_type": "code",
   "execution_count": 17,
   "metadata": {},
   "outputs": [],
   "source": [
    "d4 = {\"name\":\"sudhanshu\" ,\"name\" :\"sudhanshu kumar\"}"
   ]
  },
  {
   "cell_type": "code",
   "execution_count": 18,
   "metadata": {},
   "outputs": [
    {
     "data": {
      "text/plain": [
       "{'name': 'sudhanshu kumar'}"
      ]
     },
     "execution_count": 18,
     "metadata": {},
     "output_type": "execute_result"
    }
   ],
   "source": [
    "d4"
   ]
  },
  {
   "cell_type": "code",
   "execution_count": 19,
   "metadata": {},
   "outputs": [],
   "source": [
    "d5 = {\"name\" :\"sudhanshu\" ,\"subject\":[\"prog\",\"data science\",\"big data\",\"data analytics\",\"web dev\",\"DSA\"]}"
   ]
  },
  {
   "cell_type": "code",
   "execution_count": 20,
   "metadata": {},
   "outputs": [
    {
     "data": {
      "text/plain": [
       "{'name': 'sudhanshu',\n",
       " 'subject': ['prog',\n",
       "  'data science',\n",
       "  'big data',\n",
       "  'data analytics',\n",
       "  'web dev',\n",
       "  'DSA']}"
      ]
     },
     "execution_count": 20,
     "metadata": {},
     "output_type": "execute_result"
    }
   ],
   "source": [
    "d5"
   ]
  },
  {
   "cell_type": "code",
   "execution_count": 21,
   "metadata": {},
   "outputs": [],
   "source": [
    "d5 = {\"name\" :\"sudhanshu\" ,\"subject\":[\"prog\",\"data science\",\"big data\",\"data analytics\",\"web dev\",\"DSA\"],\"email_id\":(\"sskumar9876@gmail.com\",\"sudhanshu@gmail.com\")}"
   ]
  },
  {
   "cell_type": "code",
   "execution_count": 22,
   "metadata": {},
   "outputs": [
    {
     "data": {
      "text/plain": [
       "{'name': 'sudhanshu',\n",
       " 'subject': ['prog',\n",
       "  'data science',\n",
       "  'big data',\n",
       "  'data analytics',\n",
       "  'web dev',\n",
       "  'DSA'],\n",
       " 'email_id': ('sskumar9876@gmail.com', 'sudhanshu@gmail.com')}"
      ]
     },
     "execution_count": 22,
     "metadata": {},
     "output_type": "execute_result"
    }
   ],
   "source": [
    "d5"
   ]
  },
  {
   "cell_type": "code",
   "execution_count": 23,
   "metadata": {},
   "outputs": [],
   "source": [
    "d5 = {\"name\" :\"sudhanshu\" ,\n",
    "      \"subject\":[\"prog\",\"data science\",\"big data\",\"data analytics\",\"web dev\",\"DSA\"],\n",
    "      \"email_id\":(\"sskumar9876@gmail.com\",\"sudhanshu@gmail.com\"),\n",
    "      \"phone_number\" :91353543,\n",
    "      \"height\":176.45,\n",
    "      \"Male\":True}"
   ]
  },
  {
   "cell_type": "code",
   "execution_count": 24,
   "metadata": {},
   "outputs": [
    {
     "data": {
      "text/plain": [
       "{'name': 'sudhanshu',\n",
       " 'subject': ['prog',\n",
       "  'data science',\n",
       "  'big data',\n",
       "  'data analytics',\n",
       "  'web dev',\n",
       "  'DSA'],\n",
       " 'email_id': ('sskumar9876@gmail.com', 'sudhanshu@gmail.com'),\n",
       " 'phone_number': 91353543,\n",
       " 'height': 176.45,\n",
       " 'Male': True}"
      ]
     },
     "execution_count": 24,
     "metadata": {},
     "output_type": "execute_result"
    }
   ],
   "source": [
    "d5"
   ]
  },
  {
   "cell_type": "code",
   "execution_count": 25,
   "metadata": {},
   "outputs": [],
   "source": [
    "d5 = {\"name\" :\"sudhanshu\" ,\n",
    "      \"subject\":[\"prog\",\"data science\",\"big data\",\"data analytics\",\"web dev\",\"DSA\"],\n",
    "      \"email_id\":(\"sskumar9876@gmail.com\",\"sudhanshu@gmail.com\"),\n",
    "      \"phone_number\" :91353543,\n",
    "      \"height\":176.45,\n",
    "      \"Male\":True,\n",
    "      \"address\":\"prestige 34\",\n",
    "      \"luckey_number\":{1,2,3,4,4,52,3,4,5,65,6}}"
   ]
  },
  {
   "cell_type": "code",
   "execution_count": 26,
   "metadata": {},
   "outputs": [
    {
     "data": {
      "text/plain": [
       "{'name': 'sudhanshu',\n",
       " 'subject': ['prog',\n",
       "  'data science',\n",
       "  'big data',\n",
       "  'data analytics',\n",
       "  'web dev',\n",
       "  'DSA'],\n",
       " 'email_id': ('sskumar9876@gmail.com', 'sudhanshu@gmail.com'),\n",
       " 'phone_number': 91353543,\n",
       " 'height': 176.45,\n",
       " 'Male': True,\n",
       " 'address': 'prestige 34',\n",
       " 'luckey_number': {1, 2, 3, 4, 5, 6, 52, 65}}"
      ]
     },
     "execution_count": 26,
     "metadata": {},
     "output_type": "execute_result"
    }
   ],
   "source": [
    "d5"
   ]
  },
  {
   "cell_type": "code",
   "execution_count": 27,
   "metadata": {},
   "outputs": [],
   "source": [
    "d5 = {\"name\" :\"sudhanshu\" ,\n",
    "      \"subject\":[\"prog\",\"data science\",\"big data\",\"data analytics\",\"web dev\",\"DSA\"],\n",
    "      \"email_id\":(\"sskumar9876@gmail.com\",\"sudhanshu@gmail.com\"),\n",
    "      \"phone_number\" :91353543,\n",
    "      \"height\":176.45,\n",
    "      \"Male\":True,\n",
    "      \"address\":\"prestige 34\",\n",
    "      \"luckey_number\":{1,2,3,4,4,52,3,4,5,65,6},\n",
    "      \"resume\":{\"linkedin\":\"https://www.linkedin.com/in/-sudhanshu-kumar/\",\n",
    "                \"github\":\"https://github.com/sudhanshukumartech\",\n",
    "                \"age\":30,\n",
    "                \"projects\":[\"megatron\",\"lab prject\",\"internship portal\" , \"hand safety\"]\n",
    "          \n",
    "      }}"
   ]
  },
  {
   "cell_type": "code",
   "execution_count": 28,
   "metadata": {},
   "outputs": [
    {
     "data": {
      "text/plain": [
       "{'name': 'sudhanshu',\n",
       " 'subject': ['prog',\n",
       "  'data science',\n",
       "  'big data',\n",
       "  'data analytics',\n",
       "  'web dev',\n",
       "  'DSA'],\n",
       " 'email_id': ('sskumar9876@gmail.com', 'sudhanshu@gmail.com'),\n",
       " 'phone_number': 91353543,\n",
       " 'height': 176.45,\n",
       " 'Male': True,\n",
       " 'address': 'prestige 34',\n",
       " 'luckey_number': {1, 2, 3, 4, 5, 6, 52, 65},\n",
       " 'resume': {'linkedin': 'https://www.linkedin.com/in/-sudhanshu-kumar/',\n",
       "  'github': 'https://github.com/sudhanshukumartech',\n",
       "  'age': 30,\n",
       "  'projects': ['megatron', 'lab prject', 'internship portal', 'hand safety']}}"
      ]
     },
     "execution_count": 28,
     "metadata": {},
     "output_type": "execute_result"
    }
   ],
   "source": [
    "d5"
   ]
  },
  {
   "cell_type": "code",
   "execution_count": 29,
   "metadata": {},
   "outputs": [
    {
     "data": {
      "text/plain": [
       "'sudhanshu'"
      ]
     },
     "execution_count": 29,
     "metadata": {},
     "output_type": "execute_result"
    }
   ],
   "source": [
    "d5[\"name\"]"
   ]
  },
  {
   "cell_type": "code",
   "execution_count": 30,
   "metadata": {},
   "outputs": [
    {
     "data": {
      "text/plain": [
       "{'linkedin': 'https://www.linkedin.com/in/-sudhanshu-kumar/',\n",
       " 'github': 'https://github.com/sudhanshukumartech',\n",
       " 'age': 30,\n",
       " 'projects': ['megatron', 'lab prject', 'internship portal', 'hand safety']}"
      ]
     },
     "execution_count": 30,
     "metadata": {},
     "output_type": "execute_result"
    }
   ],
   "source": [
    "d5[\"resume\"]"
   ]
  },
  {
   "cell_type": "code",
   "execution_count": 31,
   "metadata": {},
   "outputs": [
    {
     "data": {
      "text/plain": [
       "dict"
      ]
     },
     "execution_count": 31,
     "metadata": {},
     "output_type": "execute_result"
    }
   ],
   "source": [
    "type(d5[\"resume\"])"
   ]
  },
  {
   "cell_type": "code",
   "execution_count": 32,
   "metadata": {},
   "outputs": [
    {
     "data": {
      "text/plain": [
       "'https://www.linkedin.com/in/-sudhanshu-kumar/'"
      ]
     },
     "execution_count": 32,
     "metadata": {},
     "output_type": "execute_result"
    }
   ],
   "source": [
    "d5[\"resume\"]['linkedin']"
   ]
  },
  {
   "cell_type": "code",
   "execution_count": 33,
   "metadata": {},
   "outputs": [
    {
     "data": {
      "text/plain": [
       "{'linkedin': 'https://www.linkedin.com/in/-sudhanshu-kumar/',\n",
       " 'github': 'https://github.com/sudhanshukumartech',\n",
       " 'age': 30,\n",
       " 'projects': ['megatron', 'lab prject', 'internship portal', 'hand safety']}"
      ]
     },
     "execution_count": 33,
     "metadata": {},
     "output_type": "execute_result"
    }
   ],
   "source": [
    "d5[\"resume\"]"
   ]
  },
  {
   "cell_type": "code",
   "execution_count": 35,
   "metadata": {},
   "outputs": [
    {
     "data": {
      "text/plain": [
       "'internship portal'"
      ]
     },
     "execution_count": 35,
     "metadata": {},
     "output_type": "execute_result"
    }
   ],
   "source": [
    "d5[\"resume\"]['projects'][2]"
   ]
  },
  {
   "cell_type": "code",
   "execution_count": 36,
   "metadata": {},
   "outputs": [
    {
     "data": {
      "text/plain": [
       "{'name': 'sudhanshu',\n",
       " 'subject': ['prog',\n",
       "  'data science',\n",
       "  'big data',\n",
       "  'data analytics',\n",
       "  'web dev',\n",
       "  'DSA'],\n",
       " 'email_id': ('sskumar9876@gmail.com', 'sudhanshu@gmail.com'),\n",
       " 'phone_number': 91353543,\n",
       " 'height': 176.45,\n",
       " 'Male': True,\n",
       " 'address': 'prestige 34',\n",
       " 'luckey_number': {1, 2, 3, 4, 5, 6, 52, 65},\n",
       " 'resume': {'linkedin': 'https://www.linkedin.com/in/-sudhanshu-kumar/',\n",
       "  'github': 'https://github.com/sudhanshukumartech',\n",
       "  'age': 30,\n",
       "  'projects': ['megatron', 'lab prject', 'internship portal', 'hand safety']}}"
      ]
     },
     "execution_count": 36,
     "metadata": {},
     "output_type": "execute_result"
    }
   ],
   "source": [
    "d5"
   ]
  },
  {
   "cell_type": "code",
   "execution_count": 38,
   "metadata": {},
   "outputs": [],
   "source": [
    "d5['height'] = 165.78"
   ]
  },
  {
   "cell_type": "code",
   "execution_count": 39,
   "metadata": {},
   "outputs": [
    {
     "data": {
      "text/plain": [
       "{'name': 'sudhanshu',\n",
       " 'subject': ['prog',\n",
       "  'data science',\n",
       "  'big data',\n",
       "  'data analytics',\n",
       "  'web dev',\n",
       "  'DSA'],\n",
       " 'email_id': ('sskumar9876@gmail.com', 'sudhanshu@gmail.com'),\n",
       " 'phone_number': 91353543,\n",
       " 'height': 165.78,\n",
       " 'Male': True,\n",
       " 'address': 'prestige 34',\n",
       " 'luckey_number': {1, 2, 3, 4, 5, 6, 52, 65},\n",
       " 'resume': {'linkedin': 'https://www.linkedin.com/in/-sudhanshu-kumar/',\n",
       "  'github': 'https://github.com/sudhanshukumartech',\n",
       "  'age': 30,\n",
       "  'projects': ['megatron', 'lab prject', 'internship portal', 'hand safety']}}"
      ]
     },
     "execution_count": 39,
     "metadata": {},
     "output_type": "execute_result"
    }
   ],
   "source": [
    "d5"
   ]
  },
  {
   "cell_type": "code",
   "execution_count": 40,
   "metadata": {},
   "outputs": [
    {
     "data": {
      "text/plain": [
       "{'name': 'sudhanshu',\n",
       " 'subject': ['prog',\n",
       "  'data science',\n",
       "  'big data',\n",
       "  'data analytics',\n",
       "  'web dev',\n",
       "  'DSA'],\n",
       " 'email_id': ('sskumar9876@gmail.com', 'sudhanshu@gmail.com'),\n",
       " 'phone_number': 91353543,\n",
       " 'height': 165.78,\n",
       " 'Male': True,\n",
       " 'address': 'prestige 34',\n",
       " 'luckey_number': {1, 2, 3, 4, 5, 6, 52, 65},\n",
       " 'resume': {'linkedin': 'https://www.linkedin.com/in/-sudhanshu-kumar/',\n",
       "  'github': 'https://github.com/sudhanshukumartech',\n",
       "  'age': 30,\n",
       "  'projects': ['megatron', 'lab prject', 'internship portal', 'hand safety']}}"
      ]
     },
     "execution_count": 40,
     "metadata": {},
     "output_type": "execute_result"
    }
   ],
   "source": [
    "d5"
   ]
  },
  {
   "cell_type": "code",
   "execution_count": 41,
   "metadata": {},
   "outputs": [],
   "source": [
    "d5['company']=[\"wipro\",\"delloite\",\"verizon\",\"e&y\",\"ineuron\"]"
   ]
  },
  {
   "cell_type": "code",
   "execution_count": 42,
   "metadata": {},
   "outputs": [
    {
     "data": {
      "text/plain": [
       "{'name': 'sudhanshu',\n",
       " 'subject': ['prog',\n",
       "  'data science',\n",
       "  'big data',\n",
       "  'data analytics',\n",
       "  'web dev',\n",
       "  'DSA'],\n",
       " 'email_id': ('sskumar9876@gmail.com', 'sudhanshu@gmail.com'),\n",
       " 'phone_number': 91353543,\n",
       " 'height': 165.78,\n",
       " 'Male': True,\n",
       " 'address': 'prestige 34',\n",
       " 'luckey_number': {1, 2, 3, 4, 5, 6, 52, 65},\n",
       " 'resume': {'linkedin': 'https://www.linkedin.com/in/-sudhanshu-kumar/',\n",
       "  'github': 'https://github.com/sudhanshukumartech',\n",
       "  'age': 30,\n",
       "  'projects': ['megatron', 'lab prject', 'internship portal', 'hand safety']},\n",
       " 'company': ['wipro', 'delloite', 'verizon', 'e&y', 'ineuron']}"
      ]
     },
     "execution_count": 42,
     "metadata": {},
     "output_type": "execute_result"
    }
   ],
   "source": [
    "d5"
   ]
  },
  {
   "cell_type": "code",
   "execution_count": 44,
   "metadata": {},
   "outputs": [
    {
     "data": {
      "text/plain": [
       "10"
      ]
     },
     "execution_count": 44,
     "metadata": {},
     "output_type": "execute_result"
    }
   ],
   "source": [
    "len(d5)"
   ]
  },
  {
   "cell_type": "code",
   "execution_count": 45,
   "metadata": {},
   "outputs": [
    {
     "data": {
      "text/plain": [
       "dict_keys(['name', 'subject', 'email_id', 'phone_number', 'height', 'Male', 'address', 'luckey_number', 'resume', 'company'])"
      ]
     },
     "execution_count": 45,
     "metadata": {},
     "output_type": "execute_result"
    }
   ],
   "source": [
    "d5.keys()"
   ]
  },
  {
   "cell_type": "code",
   "execution_count": 47,
   "metadata": {},
   "outputs": [
    {
     "data": {
      "text/plain": [
       "dict_keys(['linkedin', 'github', 'age', 'projects'])"
      ]
     },
     "execution_count": 47,
     "metadata": {},
     "output_type": "execute_result"
    }
   ],
   "source": [
    "d5[\"resume\"].keys()"
   ]
  },
  {
   "cell_type": "code",
   "execution_count": 48,
   "metadata": {},
   "outputs": [
    {
     "data": {
      "text/plain": [
       "['name',\n",
       " 'subject',\n",
       " 'email_id',\n",
       " 'phone_number',\n",
       " 'height',\n",
       " 'Male',\n",
       " 'address',\n",
       " 'luckey_number',\n",
       " 'resume',\n",
       " 'company']"
      ]
     },
     "execution_count": 48,
     "metadata": {},
     "output_type": "execute_result"
    }
   ],
   "source": [
    "list(d5.keys())"
   ]
  },
  {
   "cell_type": "code",
   "execution_count": 49,
   "metadata": {},
   "outputs": [
    {
     "data": {
      "text/plain": [
       "('name',\n",
       " 'subject',\n",
       " 'email_id',\n",
       " 'phone_number',\n",
       " 'height',\n",
       " 'Male',\n",
       " 'address',\n",
       " 'luckey_number',\n",
       " 'resume',\n",
       " 'company')"
      ]
     },
     "execution_count": 49,
     "metadata": {},
     "output_type": "execute_result"
    }
   ],
   "source": [
    "tuple(d5.keys())"
   ]
  },
  {
   "cell_type": "code",
   "execution_count": 50,
   "metadata": {},
   "outputs": [
    {
     "data": {
      "text/plain": [
       "dict_values(['sudhanshu', ['prog', 'data science', 'big data', 'data analytics', 'web dev', 'DSA'], ('sskumar9876@gmail.com', 'sudhanshu@gmail.com'), 91353543, 165.78, True, 'prestige 34', {1, 2, 3, 4, 5, 65, 6, 52}, {'linkedin': 'https://www.linkedin.com/in/-sudhanshu-kumar/', 'github': 'https://github.com/sudhanshukumartech', 'age': 30, 'projects': ['megatron', 'lab prject', 'internship portal', 'hand safety']}, ['wipro', 'delloite', 'verizon', 'e&y', 'ineuron']])"
      ]
     },
     "execution_count": 50,
     "metadata": {},
     "output_type": "execute_result"
    }
   ],
   "source": [
    "d5.values()"
   ]
  },
  {
   "cell_type": "code",
   "execution_count": 51,
   "metadata": {},
   "outputs": [
    {
     "data": {
      "text/plain": [
       "['sudhanshu',\n",
       " ['prog', 'data science', 'big data', 'data analytics', 'web dev', 'DSA'],\n",
       " ('sskumar9876@gmail.com', 'sudhanshu@gmail.com'),\n",
       " 91353543,\n",
       " 165.78,\n",
       " True,\n",
       " 'prestige 34',\n",
       " {1, 2, 3, 4, 5, 6, 52, 65},\n",
       " {'linkedin': 'https://www.linkedin.com/in/-sudhanshu-kumar/',\n",
       "  'github': 'https://github.com/sudhanshukumartech',\n",
       "  'age': 30,\n",
       "  'projects': ['megatron', 'lab prject', 'internship portal', 'hand safety']},\n",
       " ['wipro', 'delloite', 'verizon', 'e&y', 'ineuron']]"
      ]
     },
     "execution_count": 51,
     "metadata": {},
     "output_type": "execute_result"
    }
   ],
   "source": [
    "list(d5.values())"
   ]
  },
  {
   "cell_type": "code",
   "execution_count": 52,
   "metadata": {},
   "outputs": [
    {
     "data": {
      "text/plain": [
       "dict_items([('name', 'sudhanshu'), ('subject', ['prog', 'data science', 'big data', 'data analytics', 'web dev', 'DSA']), ('email_id', ('sskumar9876@gmail.com', 'sudhanshu@gmail.com')), ('phone_number', 91353543), ('height', 165.78), ('Male', True), ('address', 'prestige 34'), ('luckey_number', {1, 2, 3, 4, 5, 65, 6, 52}), ('resume', {'linkedin': 'https://www.linkedin.com/in/-sudhanshu-kumar/', 'github': 'https://github.com/sudhanshukumartech', 'age': 30, 'projects': ['megatron', 'lab prject', 'internship portal', 'hand safety']}), ('company', ['wipro', 'delloite', 'verizon', 'e&y', 'ineuron'])])"
      ]
     },
     "execution_count": 52,
     "metadata": {},
     "output_type": "execute_result"
    }
   ],
   "source": [
    "d5.items()"
   ]
  },
  {
   "cell_type": "code",
   "execution_count": 53,
   "metadata": {},
   "outputs": [
    {
     "data": {
      "text/plain": [
       "[('name', 'sudhanshu'),\n",
       " ('subject',\n",
       "  ['prog', 'data science', 'big data', 'data analytics', 'web dev', 'DSA']),\n",
       " ('email_id', ('sskumar9876@gmail.com', 'sudhanshu@gmail.com')),\n",
       " ('phone_number', 91353543),\n",
       " ('height', 165.78),\n",
       " ('Male', True),\n",
       " ('address', 'prestige 34'),\n",
       " ('luckey_number', {1, 2, 3, 4, 5, 6, 52, 65}),\n",
       " ('resume',\n",
       "  {'linkedin': 'https://www.linkedin.com/in/-sudhanshu-kumar/',\n",
       "   'github': 'https://github.com/sudhanshukumartech',\n",
       "   'age': 30,\n",
       "   'projects': ['megatron',\n",
       "    'lab prject',\n",
       "    'internship portal',\n",
       "    'hand safety']}),\n",
       " ('company', ['wipro', 'delloite', 'verizon', 'e&y', 'ineuron'])]"
      ]
     },
     "execution_count": 53,
     "metadata": {},
     "output_type": "execute_result"
    }
   ],
   "source": [
    "list(d5.items())"
   ]
  },
  {
   "cell_type": "code",
   "execution_count": 54,
   "metadata": {},
   "outputs": [
    {
     "data": {
      "text/plain": [
       "'sudhanshu'"
      ]
     },
     "execution_count": 54,
     "metadata": {},
     "output_type": "execute_result"
    }
   ],
   "source": [
    "d5.get(\"name\")"
   ]
  },
  {
   "cell_type": "code",
   "execution_count": 55,
   "metadata": {},
   "outputs": [
    {
     "data": {
      "text/plain": [
       "{'linkedin': 'https://www.linkedin.com/in/-sudhanshu-kumar/',\n",
       " 'github': 'https://github.com/sudhanshukumartech',\n",
       " 'age': 30,\n",
       " 'projects': ['megatron', 'lab prject', 'internship portal', 'hand safety']}"
      ]
     },
     "execution_count": 55,
     "metadata": {},
     "output_type": "execute_result"
    }
   ],
   "source": [
    "d5.get(\"resume\")"
   ]
  },
  {
   "cell_type": "code",
   "execution_count": 59,
   "metadata": {},
   "outputs": [],
   "source": [
    "d5.update({\"name\":\"sudhanshu kumar\"})"
   ]
  },
  {
   "cell_type": "code",
   "execution_count": 60,
   "metadata": {},
   "outputs": [
    {
     "data": {
      "text/plain": [
       "{'name': 'sudhanshu kumar',\n",
       " 'subject': ['prog',\n",
       "  'data science',\n",
       "  'big data',\n",
       "  'data analytics',\n",
       "  'web dev',\n",
       "  'DSA'],\n",
       " 'email_id': ('sskumar9876@gmail.com', 'sudhanshu@gmail.com'),\n",
       " 'phone_number': 91353543,\n",
       " 'height': 165.78,\n",
       " 'Male': True,\n",
       " 'address': 'prestige 34',\n",
       " 'luckey_number': {1, 2, 3, 4, 5, 6, 52, 65},\n",
       " 'resume': {'linkedin': 'https://www.linkedin.com/in/-sudhanshu-kumar/',\n",
       "  'github': 'https://github.com/sudhanshukumartech',\n",
       "  'age': 30,\n",
       "  'projects': ['megatron', 'lab prject', 'internship portal', 'hand safety']},\n",
       " 'company': ['wipro', 'delloite', 'verizon', 'e&y', 'ineuron']}"
      ]
     },
     "execution_count": 60,
     "metadata": {},
     "output_type": "execute_result"
    }
   ],
   "source": [
    "d5"
   ]
  },
  {
   "cell_type": "code",
   "execution_count": 62,
   "metadata": {},
   "outputs": [
    {
     "data": {
      "text/plain": [
       "'sudhanshu kumar'"
      ]
     },
     "execution_count": 62,
     "metadata": {},
     "output_type": "execute_result"
    }
   ],
   "source": [
    "d5.pop(\"name\")"
   ]
  },
  {
   "cell_type": "code",
   "execution_count": 63,
   "metadata": {},
   "outputs": [
    {
     "data": {
      "text/plain": [
       "{'subject': ['prog',\n",
       "  'data science',\n",
       "  'big data',\n",
       "  'data analytics',\n",
       "  'web dev',\n",
       "  'DSA'],\n",
       " 'email_id': ('sskumar9876@gmail.com', 'sudhanshu@gmail.com'),\n",
       " 'phone_number': 91353543,\n",
       " 'height': 165.78,\n",
       " 'Male': True,\n",
       " 'address': 'prestige 34',\n",
       " 'luckey_number': {1, 2, 3, 4, 5, 6, 52, 65},\n",
       " 'resume': {'linkedin': 'https://www.linkedin.com/in/-sudhanshu-kumar/',\n",
       "  'github': 'https://github.com/sudhanshukumartech',\n",
       "  'age': 30,\n",
       "  'projects': ['megatron', 'lab prject', 'internship portal', 'hand safety']},\n",
       " 'company': ['wipro', 'delloite', 'verizon', 'e&y', 'ineuron']}"
      ]
     },
     "execution_count": 63,
     "metadata": {},
     "output_type": "execute_result"
    }
   ],
   "source": [
    "d5"
   ]
  },
  {
   "cell_type": "code",
   "execution_count": 65,
   "metadata": {},
   "outputs": [
    {
     "data": {
      "text/plain": [
       "('company', ['wipro', 'delloite', 'verizon', 'e&y', 'ineuron'])"
      ]
     },
     "execution_count": 65,
     "metadata": {},
     "output_type": "execute_result"
    }
   ],
   "source": [
    "d5.popitem()"
   ]
  },
  {
   "cell_type": "code",
   "execution_count": 66,
   "metadata": {},
   "outputs": [
    {
     "data": {
      "text/plain": [
       "{'subject': ['prog',\n",
       "  'data science',\n",
       "  'big data',\n",
       "  'data analytics',\n",
       "  'web dev',\n",
       "  'DSA'],\n",
       " 'email_id': ('sskumar9876@gmail.com', 'sudhanshu@gmail.com'),\n",
       " 'phone_number': 91353543,\n",
       " 'height': 165.78,\n",
       " 'Male': True,\n",
       " 'address': 'prestige 34',\n",
       " 'luckey_number': {1, 2, 3, 4, 5, 6, 52, 65},\n",
       " 'resume': {'linkedin': 'https://www.linkedin.com/in/-sudhanshu-kumar/',\n",
       "  'github': 'https://github.com/sudhanshukumartech',\n",
       "  'age': 30,\n",
       "  'projects': ['megatron', 'lab prject', 'internship portal', 'hand safety']}}"
      ]
     },
     "execution_count": 66,
     "metadata": {},
     "output_type": "execute_result"
    }
   ],
   "source": [
    "d5"
   ]
  },
  {
   "cell_type": "code",
   "execution_count": 67,
   "metadata": {},
   "outputs": [],
   "source": [
    "d6 = d5.copy()"
   ]
  },
  {
   "cell_type": "code",
   "execution_count": 68,
   "metadata": {},
   "outputs": [
    {
     "data": {
      "text/plain": [
       "{'subject': ['prog',\n",
       "  'data science',\n",
       "  'big data',\n",
       "  'data analytics',\n",
       "  'web dev',\n",
       "  'DSA'],\n",
       " 'email_id': ('sskumar9876@gmail.com', 'sudhanshu@gmail.com'),\n",
       " 'phone_number': 91353543,\n",
       " 'height': 165.78,\n",
       " 'Male': True,\n",
       " 'address': 'prestige 34',\n",
       " 'luckey_number': {1, 2, 3, 4, 5, 6, 52, 65},\n",
       " 'resume': {'linkedin': 'https://www.linkedin.com/in/-sudhanshu-kumar/',\n",
       "  'github': 'https://github.com/sudhanshukumartech',\n",
       "  'age': 30,\n",
       "  'projects': ['megatron', 'lab prject', 'internship portal', 'hand safety']}}"
      ]
     },
     "execution_count": 68,
     "metadata": {},
     "output_type": "execute_result"
    }
   ],
   "source": [
    "d6"
   ]
  },
  {
   "cell_type": "code",
   "execution_count": 69,
   "metadata": {},
   "outputs": [],
   "source": [
    "d6.clear()"
   ]
  },
  {
   "cell_type": "code",
   "execution_count": 70,
   "metadata": {},
   "outputs": [
    {
     "data": {
      "text/plain": [
       "{}"
      ]
     },
     "execution_count": 70,
     "metadata": {},
     "output_type": "execute_result"
    }
   ],
   "source": [
    "d6"
   ]
  },
  {
   "cell_type": "code",
   "execution_count": 71,
   "metadata": {},
   "outputs": [
    {
     "data": {
      "text/plain": [
       "{'subject': ['prog',\n",
       "  'data science',\n",
       "  'big data',\n",
       "  'data analytics',\n",
       "  'web dev',\n",
       "  'DSA'],\n",
       " 'email_id': ('sskumar9876@gmail.com', 'sudhanshu@gmail.com'),\n",
       " 'phone_number': 91353543,\n",
       " 'height': 165.78,\n",
       " 'Male': True,\n",
       " 'address': 'prestige 34',\n",
       " 'luckey_number': {1, 2, 3, 4, 5, 6, 52, 65},\n",
       " 'resume': {'linkedin': 'https://www.linkedin.com/in/-sudhanshu-kumar/',\n",
       "  'github': 'https://github.com/sudhanshukumartech',\n",
       "  'age': 30,\n",
       "  'projects': ['megatron', 'lab prject', 'internship portal', 'hand safety']}}"
      ]
     },
     "execution_count": 71,
     "metadata": {},
     "output_type": "execute_result"
    }
   ],
   "source": [
    "d5"
   ]
  },
  {
   "cell_type": "code",
   "execution_count": null,
   "metadata": {},
   "outputs": [],
   "source": []
  }
 ],
 "metadata": {
  "kernelspec": {
   "display_name": "Python 3",
   "language": "python",
   "name": "python3"
  },
  "language_info": {
   "codemirror_mode": {
    "name": "ipython",
    "version": 3
   },
   "file_extension": ".py",
   "mimetype": "text/x-python",
   "name": "python",
   "nbconvert_exporter": "python",
   "pygments_lexer": "ipython3",
   "version": "3.12.1"
  }
 },
 "nbformat": 4,
 "nbformat_minor": 2
}
