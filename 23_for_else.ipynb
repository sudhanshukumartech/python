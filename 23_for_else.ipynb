{
 "cells": [
  {
   "cell_type": "code",
   "execution_count": 1,
   "metadata": {},
   "outputs": [
    {
     "name": "stdout",
     "output_type": "stream",
     "text": [
      "3\n",
      "4\n",
      "5\n",
      "6\n",
      "7\n",
      "this will be executed one for loop will complete itself\n"
     ]
    }
   ],
   "source": [
    "l = [3,4,5,6,7]\n",
    "for i in l :\n",
    "    print(i)\n",
    "else :\n",
    "    print(\"this will be executed one for loop will complete itself\")"
   ]
  },
  {
   "cell_type": "code",
   "execution_count": 3,
   "metadata": {},
   "outputs": [
    {
     "name": "stdout",
     "output_type": "stream",
     "text": [
      "8 i am not able to find\n"
     ]
    }
   ],
   "source": [
    "l = [3,4,5,6,6,7,8,9]\n",
    "data_search = 8 \n",
    "for i in l :\n",
    "    if i == data_search:\n",
    "        print(i)\n",
    "        break\n",
    "else :\n",
    "    print(f\"{data_search} i am not able to find\")\n"
   ]
  },
  {
   "cell_type": "code",
   "execution_count": 4,
   "metadata": {},
   "outputs": [
    {
     "name": "stdout",
     "output_type": "stream",
     "text": [
      "this is an even number 2\n",
      "this is an even number 4\n",
      "this is an even number 6\n",
      "this is an even number 8\n",
      "this is an even number 8\n",
      "i am not able to find an even number\n"
     ]
    }
   ],
   "source": [
    "num = [2,3,4,5,6,7,8,8,9]\n",
    "for i in num :\n",
    "    if i % 2 == 0 :\n",
    "        print(\"this is an even number\" , i )\n",
    "else :\n",
    "    print(\"i am not able to find an even number\")"
   ]
  },
  {
   "cell_type": "code",
   "execution_count": 5,
   "metadata": {},
   "outputs": [
    {
     "name": "stdout",
     "output_type": "stream",
     "text": [
      "this is an even number 2\n"
     ]
    }
   ],
   "source": [
    "num = [2,3,4,5,6,7,8,8,9]\n",
    "for i in num :\n",
    "    if i % 2 == 0 :\n",
    "        print(\"this is an even number\" , i )\n",
    "        break\n",
    "else :\n",
    "    print(\"i am not able to find an even number\")"
   ]
  },
  {
   "cell_type": "code",
   "execution_count": 12,
   "metadata": {},
   "outputs": [
    {
     "name": "stdout",
     "output_type": "stream",
     "text": [
      "i am not abley to find a data\n"
     ]
    }
   ],
   "source": [
    "data = range(2,20,8)\n",
    "for i in data:\n",
    "    if i % 7 == 0 :\n",
    "        print(\"this is a fist data which will be divisible by 7 : \" , i )\n",
    "        break\n",
    "else :\n",
    "    print(\"i am not able to find a data\")"
   ]
  },
  {
   "cell_type": "code",
   "execution_count": 13,
   "metadata": {},
   "outputs": [
    {
     "data": {
      "text/plain": [
       "[2, 10, 18]"
      ]
     },
     "execution_count": 13,
     "metadata": {},
     "output_type": "execute_result"
    }
   ],
   "source": [
    "list(range(2,20,8))"
   ]
  },
  {
   "cell_type": "code",
   "execution_count": null,
   "metadata": {},
   "outputs": [],
   "source": []
  }
 ],
 "metadata": {
  "kernelspec": {
   "display_name": "Python 3",
   "language": "python",
   "name": "python3"
  },
  "language_info": {
   "codemirror_mode": {
    "name": "ipython",
    "version": 3
   },
   "file_extension": ".py",
   "mimetype": "text/x-python",
   "name": "python",
   "nbconvert_exporter": "python",
   "pygments_lexer": "ipython3",
   "version": "3.12.1"
  }
 },
 "nbformat": 4,
 "nbformat_minor": 2
}
